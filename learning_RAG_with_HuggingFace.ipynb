{
 "cells": [
  {
   "cell_type": "markdown",
   "id": "fa8974b7-0fb7-4850-a682-7659108c5d49",
   "metadata": {},
   "source": [
    "# This notebook needs to be ran in Google Colab"
   ]
  },
  {
   "cell_type": "code",
   "execution_count": null,
   "id": "56d779fc-bd5f-45d9-96e2-fb7381e95c6e",
   "metadata": {},
   "outputs": [],
   "source": [
    "import warnings\n",
    "\n",
    "# Set a global filter to ignore the specific DeprecationWarning from jupyter_client\n",
    "# This is just needed cause something was happening in my Colab notebook where a deprecation message was popping up\n",
    "warnings.filterwarnings(\n",
    "    \"ignore\",\n",
    "    message=\"datetime.datetime.utcnow() is deprecated and scheduled for removal in a future version. Use timezone-aware objects to represent datetimes in UTC: datetime.datetime.now(datetime.UTC).\",\n",
    "    category=DeprecationWarning,\n",
    "    module=\"jupyter_client\"\n",
    ")"
   ]
  },
  {
   "cell_type": "code",
   "execution_count": null,
   "id": "4326ea45-791f-4aa5-912a-e36361e735fb",
   "metadata": {},
   "outputs": [],
   "source": [
    "!pip install --quiet --upgrade \\\n",
    "  google-colab==1.0.0 \\\n",
    "  requests==2.32.4 \\\n",
    "  langchain==0.3.27 \\\n",
    "  langchain-core==0.3.79 \\\n",
    "  huggingface_hub \\\n",
    "  langchain_huggingface \\\n",
    "  langchain-community \\"
   ]
  },
  {
   "cell_type": "code",
   "execution_count": null,
   "id": "7a52b6a1-9340-4f1b-8ba0-edab21a187c2",
   "metadata": {},
   "outputs": [],
   "source": [
    "from huggingface_hub import notebook_login\n",
    "notebook_login()"
   ]
  },
  {
   "cell_type": "code",
   "execution_count": null,
   "id": "2d8172c3-c877-4aac-901b-e2cdf940fd14",
   "metadata": {},
   "outputs": [],
   "source": [
    "# Prompting without Langchain - still using some Langchain packages just cause why not\n",
    "\n",
    "from transformers import pipeline\n",
    "from langchain_huggingface import HuggingFacePipeline\n",
    "from langchain.chains import LLMChain\n",
    "from langchain_core.prompts import PromptTemplate\n",
    "from langchain_core.runnables import RunnableLambda\n",
    "\n",
    "question = input(\"What is your question? \")\n",
    "\n",
    "template = \"{question}\"\n",
    "\n",
    "prompt = PromptTemplate(template=template, input_variables=[\"question\"])\n",
    "\n",
    "model_id = \"Qwen/Qwen2.5-1.5B-Instruct\"\n",
    "pipe = pipeline(\n",
    "    \"text-generation\",\n",
    "    model=model_id,\n",
    "    max_new_tokens=256,\n",
    ")\n",
    "\n",
    "llm = HuggingFacePipeline(pipeline=pipe)\n",
    "llm_chain = prompt | llm\n",
    "\n",
    "response = llm_chain.invoke({\"question\": question})\n",
    "\n",
    "print(response)"
   ]
  },
  {
   "cell_type": "code",
   "execution_count": null,
   "id": "02f658ce-6573-4905-8020-774106d61704",
   "metadata": {},
   "outputs": [],
   "source": [
    "# We run this seperately just in case - probably isnt needed\n",
    "pip install transformers -U"
   ]
  },
  {
   "cell_type": "code",
   "execution_count": null,
   "id": "6ffd3087-359d-48a3-b97d-95ef271a60f9",
   "metadata": {},
   "outputs": [],
   "source": [
    "# Using Langchain to search the webs\n",
    "\n",
    "from transformers import pipeline\n",
    "from langchain_huggingface import HuggingFacePipeline\n",
    "from langchain.chains import LLMChain\n",
    "from langchain_core.prompts import PromptTemplate\n",
    "from langchain_community.tools import BraveSearch\n",
    "from langchain_core.runnables import RunnableLambda\n",
    "\n",
    "question = input(\"What is your question? \")\n",
    "\n",
    "# Replace with your actual Brave API key\n",
    "brave_api = \"BRAVE_API_KEY_HERE\"\n",
    "\n",
    "search = BraveSearch.from_api_key(api_key=brave_api, search_kwargs={\"count\": 5})\n",
    "def fetch_results(q):\n",
    "  return {\"question\":q, \"search_results\": search.run(q)}\n",
    "\n",
    "# Template that is fed into the LLM model\n",
    "template = \"\"\"Use the web search results to answer the question.\n",
    "Cite sources inline by title if helpful.\n",
    "\n",
    "Question: {question}\n",
    "\n",
    "Web search results:\n",
    "{search_results}\n",
    "\n",
    "Answer:\"\"\"\n",
    "\n",
    "prompt = PromptTemplate(template=template)\n",
    "\n",
    "model_id = \"Qwen/Qwen2.5-1.5B-Instruct\"\n",
    "pipe = pipeline(\"text-generation\", model=model_id, max_new_tokens=256)\n",
    "llm = HuggingFacePipeline(pipeline=pipe)\n",
    "\n",
    "llm_chain = RunnableLambda(fetch_results) | prompt | llm\n",
    "print(llm_chain.invoke(question))"
   ]
  }
 ],
 "metadata": {
  "kernelspec": {
   "display_name": "Python 3 (ipykernel)",
   "language": "python",
   "name": "python3"
  },
  "language_info": {
   "codemirror_mode": {
    "name": "ipython",
    "version": 3
   },
   "file_extension": ".py",
   "mimetype": "text/x-python",
   "name": "python",
   "nbconvert_exporter": "python",
   "pygments_lexer": "ipython3",
   "version": "3.11.9"
  }
 },
 "nbformat": 4,
 "nbformat_minor": 5
}
